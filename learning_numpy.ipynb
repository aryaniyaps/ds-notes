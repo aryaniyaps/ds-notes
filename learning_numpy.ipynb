{
  "nbformat": 4,
  "nbformat_minor": 0,
  "metadata": {
    "colab": {
      "provenance": [],
      "authorship_tag": "ABX9TyOcNofW78gj6EA+fPI6OO6V",
      "include_colab_link": true
    },
    "kernelspec": {
      "name": "python3",
      "display_name": "Python 3"
    },
    "language_info": {
      "name": "python"
    }
  },
  "cells": [
    {
      "cell_type": "markdown",
      "metadata": {
        "id": "view-in-github",
        "colab_type": "text"
      },
      "source": [
        "<a href=\"https://colab.research.google.com/github/aryaniyaps/learning_numpy/blob/main/learning_numpy.ipynb\" target=\"_parent\"><img src=\"https://colab.research.google.com/assets/colab-badge.svg\" alt=\"Open In Colab\"/></a>"
      ]
    },
    {
      "cell_type": "markdown",
      "source": [
        "**Basic array operations**"
      ],
      "metadata": {
        "id": "zRbbybFV-0sF"
      }
    },
    {
      "cell_type": "code",
      "execution_count": null,
      "metadata": {
        "id": "EqwxBsgm691M"
      },
      "outputs": [],
      "source": [
        "import numpy as np"
      ]
    },
    {
      "cell_type": "code",
      "source": [
        "# create a simple array\n",
        "my_arr = np.array([[1, 2, 3, 4], [1, 2, 3, 4]])"
      ],
      "metadata": {
        "id": "-J9YmlBR8ess"
      },
      "execution_count": 5,
      "outputs": []
    },
    {
      "cell_type": "code",
      "source": [
        "# array dimensions\n",
        "print(my_arr.ndim)\n",
        "\n",
        "# array shape\n",
        "print(my_arr.shape)\n",
        "\n",
        "# array size\n",
        "print(my_arr.size)\n",
        "\n",
        "# array datatype\n",
        "# (arrays can only have one datatype)\n",
        "print(my_arr.dtype)\n",
        "\n",
        "# array item size\n",
        "# (size of every item in array)\n",
        "print(my_arr.itemsize)\n",
        "\n",
        "# array data (won't be accessed normally)\n",
        "print(my_arr.data)\n",
        "\n",
        "# check type of array\n",
        "print(type(my_arr))"
      ],
      "metadata": {
        "colab": {
          "base_uri": "https://localhost:8080/"
        },
        "id": "IiS1Jy138zXt",
        "outputId": "ff928535-5464-4141-ce7c-7f5242fcaa05"
      },
      "execution_count": 7,
      "outputs": [
        {
          "output_type": "stream",
          "name": "stdout",
          "text": [
            "2\n",
            "(2, 4)\n",
            "8\n",
            "int64\n",
            "8\n",
            "<memory at 0x7fef55633520>\n",
            "<class 'numpy.ndarray'>\n"
          ]
        }
      ]
    },
    {
      "cell_type": "code",
      "source": [
        "# explicitly set the datatype during array creation\n",
        "explicit_dtype_array = np.array([[1,2], [3,4]], dtype=complex)\n",
        "explicit_dtype_array"
      ],
      "metadata": {
        "colab": {
          "base_uri": "https://localhost:8080/"
        },
        "id": "QCjWaqmE9nM5",
        "outputId": "77ccd90d-b870-45b1-cb21-a88dc8c1c472"
      },
      "execution_count": 9,
      "outputs": [
        {
          "output_type": "execute_result",
          "data": {
            "text/plain": [
              "array([[1.+0.j, 2.+0.j],\n",
              "       [3.+0.j, 4.+0.j]])"
            ]
          },
          "metadata": {},
          "execution_count": 9
        }
      ]
    },
    {
      "cell_type": "code",
      "source": [
        "# fill array full of zeros\n",
        "zero_arr = np.zeros((3, 4))\n",
        "print(zero_arr)\n",
        "\n",
        "# fill array with ones\n",
        "one_arr = np.ones((3, 4))\n",
        "print(one_arr)\n",
        "\n",
        "# fill array with random values initially\n",
        "empty_arr = np.empty((3, 4))\n",
        "print(empty_arr)"
      ],
      "metadata": {
        "colab": {
          "base_uri": "https://localhost:8080/"
        },
        "id": "XHM83-FQ98l8",
        "outputId": "372f53a7-fcff-4c06-eec7-e7ee82a4206c"
      },
      "execution_count": 13,
      "outputs": [
        {
          "output_type": "stream",
          "name": "stdout",
          "text": [
            "[[0. 0. 0. 0.]\n",
            " [0. 0. 0. 0.]\n",
            " [0. 0. 0. 0.]]\n",
            "[[1. 1. 1. 1.]\n",
            " [1. 1. 1. 1.]\n",
            " [1. 1. 1. 1.]]\n",
            "[[1. 1. 1. 1.]\n",
            " [1. 1. 1. 1.]\n",
            " [1. 1. 1. 1.]]\n"
          ]
        }
      ]
    },
    {
      "cell_type": "markdown",
      "source": [
        "**Creating sequences of numbers**\n",
        "\n",
        "analogous to the builtin `range` function in Python."
      ],
      "metadata": {
        "id": "ncPa--0R-sRI"
      }
    },
    {
      "cell_type": "code",
      "source": [
        "my_arr = np.arange(10, 100, 5)\n",
        "print(my_arr)"
      ],
      "metadata": {
        "colab": {
          "base_uri": "https://localhost:8080/"
        },
        "id": "T6o2Oxes-9Qq",
        "outputId": "965ecd59-0abf-4fae-e9d3-0f0a1853198e"
      },
      "execution_count": 15,
      "outputs": [
        {
          "output_type": "stream",
          "name": "stdout",
          "text": [
            "[10 15 20 25 30 35 40 45 50 55 60 65 70 75 80 85 90 95]\n"
          ]
        }
      ]
    },
    {
      "cell_type": "code",
      "source": [
        "# generate evenly spaced numbers over a specified interval\n",
        "print(np.linspace(2.0, 3.0, num=5))"
      ],
      "metadata": {
        "colab": {
          "base_uri": "https://localhost:8080/"
        },
        "id": "YKbdsKMO_914",
        "outputId": "954c9926-e929-4cbd-98df-30bb9badf47c"
      },
      "execution_count": 18,
      "outputs": [
        {
          "output_type": "stream",
          "name": "stdout",
          "text": [
            "[2.   2.25 2.5  2.75 3.  ]\n"
          ]
        }
      ]
    },
    {
      "cell_type": "markdown",
      "source": [
        "**Fill up arrays with values based on a given shape**"
      ],
      "metadata": {
        "id": "C7HeuCoj_c5-"
      }
    },
    {
      "cell_type": "code",
      "source": [
        "reference_arr = np.array([1, 2, 3])\n",
        "\n",
        "# fill up with zeros in a similar shape\n",
        "print(np.zeros_like(reference_arr))\n",
        "\n",
        "# fill up with ones in a similar shape\n",
        "print(np.ones_like(reference_arr))\n",
        "\n",
        "# create a random array with similar shape\n",
        "print(np.empty_like(reference_arr))"
      ],
      "metadata": {
        "colab": {
          "base_uri": "https://localhost:8080/"
        },
        "id": "ORmfscJt_jgZ",
        "outputId": "884fba99-8356-477f-afc9-a223b4330188"
      },
      "execution_count": 17,
      "outputs": [
        {
          "output_type": "stream",
          "name": "stdout",
          "text": [
            "[0 0 0]\n",
            "[1 1 1]\n",
            "[1 1 1]\n"
          ]
        }
      ]
    },
    {
      "cell_type": "markdown",
      "source": [
        "**Operations on arrays**\n",
        "\n",
        "operations are carried out on arrays element-wise."
      ],
      "metadata": {
        "id": "ofNEzuo4AZfZ"
      }
    },
    {
      "cell_type": "markdown",
      "source": [
        "*binary operations*"
      ],
      "metadata": {
        "id": "fXo3ZBqmBJEV"
      }
    },
    {
      "cell_type": "code",
      "source": [
        "arr_1 = np.array([1, 2, 3, 4])\n",
        "arr_2 = np.array([5, 6, 7, 8])\n",
        "\n",
        "print(\"1 - 2: \", arr_1 - arr_2)\n",
        "print(\"1 + 2: \", arr_1 + arr_2)\n",
        "print(\"1**2 \", arr_1 ** 2)\n",
        "print(\"1 < 2: \", arr_1 < arr_2)\n",
        "print(\"1 > 2: \", arr_1 > arr_2)\n",
        "print(\"1 * 2: \", arr_1 * arr_2)"
      ],
      "metadata": {
        "colab": {
          "base_uri": "https://localhost:8080/"
        },
        "id": "ykyWma49Ai6-",
        "outputId": "934460a7-76f0-4e00-ed2b-5baecba9a761"
      },
      "execution_count": 19,
      "outputs": [
        {
          "output_type": "stream",
          "name": "stdout",
          "text": [
            "1 - 2:  [-4 -4 -4 -4]\n",
            "1 + 2:  [ 6  8 10 12]\n",
            "1**2  [ 1  4  9 16]\n",
            "1 < 2:  [ True  True  True  True]\n",
            "1 > 2:  [False False False False]\n",
            "1 * 2:  [ 5 12 21 32]\n"
          ]
        }
      ]
    },
    {
      "cell_type": "markdown",
      "source": [
        "*unary operations*"
      ],
      "metadata": {
        "id": "h1iups_mBLjl"
      }
    },
    {
      "cell_type": "code",
      "source": [
        "print(\"sum: \", arr_1.sum())\n",
        "print(\"max: \", arr_1.max())\n",
        "print(\"min: \", arr_1.min())"
      ],
      "metadata": {
        "colab": {
          "base_uri": "https://localhost:8080/"
        },
        "id": "ODA0I5pGBODN",
        "outputId": "c463fe1e-f9a3-4dec-89d0-0c66e5413920"
      },
      "execution_count": 20,
      "outputs": [
        {
          "output_type": "stream",
          "name": "stdout",
          "text": [
            "sum:  10\n",
            "max:  4\n",
            "min:  1\n"
          ]
        }
      ]
    },
    {
      "cell_type": "markdown",
      "source": [
        "**reshaping arrays**"
      ],
      "metadata": {
        "id": "UViu9VHFBf4R"
      }
    },
    {
      "cell_type": "code",
      "source": [
        "linear_arr = np.arange(12)\n",
        "print(\"linear array: \", linear_arr)\n",
        "print(\"reshaped array: \", linear_arr.reshape(3, 4))"
      ],
      "metadata": {
        "colab": {
          "base_uri": "https://localhost:8080/"
        },
        "id": "fa-xUIg5Bjg6",
        "outputId": "69a5b6e1-13e0-4b5f-80a6-9d3696dc93ae"
      },
      "execution_count": 22,
      "outputs": [
        {
          "output_type": "stream",
          "name": "stdout",
          "text": [
            "linear array:  [ 0  1  2  3  4  5  6  7  8  9 10 11]\n",
            "reshaped array:  [[ 0  1  2  3]\n",
            " [ 4  5  6  7]\n",
            " [ 8  9 10 11]]\n"
          ]
        }
      ]
    }
  ]
}